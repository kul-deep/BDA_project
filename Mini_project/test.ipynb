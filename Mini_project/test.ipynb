{
 "cells": [
  {
   "cell_type": "code",
   "execution_count": 32,
   "metadata": {},
   "outputs": [],
   "source": [
    "library(ggplot2)\n",
    "library(ggthemes)\n",
    "library(lubridate)\n",
    "library(dplyr)\n",
    "library(tidyr)\n",
    "library(DT)\n",
    "library(scales)\n",
    "library(\"sparklyr\")"
   ]
  },
  {
   "cell_type": "code",
   "execution_count": 33,
   "metadata": {},
   "outputs": [
    {
     "name": "stderr",
     "output_type": "stream",
     "text": [
      "Re-using existing Spark connection to local\n"
     ]
    }
   ],
   "source": [
    "sc = spark_connect(master = \"local\")"
   ]
  },
  {
   "cell_type": "code",
   "execution_count": 2,
   "metadata": {},
   "outputs": [
    {
     "ename": "ERROR",
     "evalue": "Error in ymd_hms(data_2014$Date.Time): could not find function \"ymd_hms\"\n",
     "output_type": "error",
     "traceback": [
      "Error in ymd_hms(data_2014$Date.Time): could not find function \"ymd_hms\"\nTraceback:\n"
     ]
    }
   ],
   "source": [
    "apr_data <- read.csv(\"uber-raw-data-apr14.csv\")\n",
    "may_data <- read.csv(\"uber-raw-data-may14.csv\")\n",
    "jun_data <- read.csv(\"uber-raw-data-jun14.csv\")\n",
    "jul_data <- read.csv(\"uber-raw-data-jul14.csv\")\n",
    "aug_data <- read.csv(\"uber-raw-data-aug14.csv\")\n",
    "sep_data <- read.csv(\"uber-raw-data-sep14.csv\")\n",
    "\n",
    "data_2014 <- rbind(apr_data,may_data, jun_data, jul_data, aug_data, sep_data)\n",
    "\n",
    "data_2014$Date.Time <- as.POSIXct(data_2014$Date.Time, format = \"%m/%d/%Y %H:%M:%S\")\n",
    "\n",
    "data_2014$Time <- format(as.POSIXct(data_2014$Date.Time, format = \"%m/%d/%Y %H:%M:%S\"), format=\"%H:%M:%S\")\n",
    "\n",
    "data_2014$Date.Time <- ymd_hms(data_2014$Date.Time)\n",
    "\n",
    "data_2014$day <- factor(day(data_2014$Date.Time))\n",
    "data_2014$month <- factor(month(data_2014$Date.Time, label = TRUE))\n",
    "data_2014$year <- factor(year(data_2014$Date.Time))\n",
    "data_2014$dayofweek <- factor(wday(data_2014$Date.Time, label = TRUE))"
   ]
  },
  {
   "cell_type": "code",
   "execution_count": 3,
   "metadata": {},
   "outputs": [
    {
     "ename": "ERROR",
     "evalue": "Error in hour(hms(data_2014$Time)): could not find function \"hour\"\n",
     "output_type": "error",
     "traceback": [
      "Error in hour(hms(data_2014$Time)): could not find function \"hour\"\nTraceback:\n",
      "1. factor(hour(hms(data_2014$Time)))"
     ]
    }
   ],
   "source": [
    "data_2014$hour <- factor(hour(hms(data_2014$Time)))\n",
    "data_2014$minute <- factor(minute(hms(data_2014$Time)))\n",
    "data_2014$second <- factor(second(hms(data_2014$Time)))"
   ]
  },
  {
   "cell_type": "code",
   "execution_count": 4,
   "metadata": {},
   "outputs": [],
   "source": [
    "# apr_data = spark_read_csv(sc, name = \"apr_data\", path = \"uber-raw-data-apr14.csv\")\n",
    "# may_data = spark_read_csv(sc, name = \"may_data\", path = \"uber-raw-data-may14.csv\")\n",
    "# jun_data = spark_read_csv(sc, name = \"jun_data\", path = \"uber-raw-data-jun14.csv\")\n",
    "# jul_data = spark_read_csv(sc, name = \"jul_data\", path = \"uber-raw-data-jul14.csv\")\n",
    "# aug_data = spark_read_csv(sc, name = \"aug_data\", path = \"uber-raw-data-aug14.csv\")\n",
    "# sep_data = spark_read_csv(sc, name = \"sep_data\", path = \"uber-raw-data-sep14.csv\")"
   ]
  },
  {
   "cell_type": "code",
   "execution_count": 5,
   "metadata": {},
   "outputs": [
    {
     "ename": "ERROR",
     "evalue": "Error in data_2014 %>% group_by(hour) %>% dplyr::summarize(Total = n()): could not find function \"%>%\"\n",
     "output_type": "error",
     "traceback": [
      "Error in data_2014 %>% group_by(hour) %>% dplyr::summarize(Total = n()): could not find function \"%>%\"\nTraceback:\n"
     ]
    }
   ],
   "source": [
    "hour_data <- data_2014 %>%\n",
    "           group_by(hour) %>%\n",
    "               dplyr::summarize(Total = n()) \n",
    "datatable(hour_data)"
   ]
  },
  {
   "cell_type": "code",
   "execution_count": null,
   "metadata": {},
   "outputs": [],
   "source": []
  },
  {
   "cell_type": "code",
   "execution_count": null,
   "metadata": {},
   "outputs": [],
   "source": []
  },
  {
   "cell_type": "code",
   "execution_count": null,
   "metadata": {},
   "outputs": [],
   "source": []
  },
  {
   "cell_type": "code",
   "execution_count": null,
   "metadata": {},
   "outputs": [],
   "source": []
  }
 ],
 "metadata": {
  "kernelspec": {
   "display_name": "R",
   "language": "R",
   "name": "ir"
  },
  "language_info": {
   "codemirror_mode": "r",
   "file_extension": ".r",
   "mimetype": "text/x-r-source",
   "name": "R",
   "pygments_lexer": "r",
   "version": "3.6.1"
  }
 },
 "nbformat": 4,
 "nbformat_minor": 4
}
